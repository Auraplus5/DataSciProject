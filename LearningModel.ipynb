{
 "cells": [
  {
   "cell_type": "code",
   "execution_count": 1,
   "id": "initial_id",
   "metadata": {
    "collapsed": true,
    "ExecuteTime": {
     "end_time": "2023-12-14T02:02:39.944278600Z",
     "start_time": "2023-12-14T02:02:39.347153Z"
    }
   },
   "outputs": [],
   "source": [
    "from sklearn.preprocessing import LabelEncoder\n",
    "from sklearn.metrics import roc_auc_score\n",
    "from sklearn.metrics import accuracy_score\n",
    "import pandas as pd\n",
    "from sklearn.model_selection import train_test_split\n",
    "from sklearn.utils import resample\n",
    "from matplotlib import pyplot as plt\n",
    "from sklearn.ensemble import RandomForestClassifier\n",
    "from sklearn.preprocessing import OneHotEncoder\n",
    "from sklearn.linear_model import LogisticRegression\n",
    "from sklearn.preprocessing import StandardScaler"
   ]
  },
  {
   "cell_type": "code",
   "execution_count": 2,
   "outputs": [
    {
     "data": {
      "text/plain": "                      nimi  ariregistri_kood ettevotja_oiguslik_vorm  \\\n0          000 Holdings OÜ          16372442                Osaühing   \n1             001 group OÜ          12754230                Osaühing   \n2        001 Kinnisvara OÜ          12652512                Osaühing   \n3  007 Agent & Partners OÜ          16752073                Osaühing   \n4    007 Autohaus osaühing          11694365                Osaühing   \n\n  ettevotja_oigusliku_vormi_alaliik      kmkr_nr ettevotja_staatus  \\\n0                               NaN          NaN                 R   \n1                               NaN          NaN                 R   \n2                               NaN  EE101721589                 R   \n3                               NaN          NaN                 R   \n4                               NaN  EE101335276                 R   \n\n  ettevotja_staatus_tekstina ettevotja_esmakande_kpv  ettevotja_aadress  \\\n0         Registrisse kantud              23.11.2021                NaN   \n1         Registrisse kantud              17.11.2014                NaN   \n2         Registrisse kantud              25.04.2014                NaN   \n3         Registrisse kantud              05.06.2023                NaN   \n4         Registrisse kantud              30.07.2009                NaN   \n\n                  asukoht_ettevotja_aadressis  asukoha_ehak_kood  \\\n0  313A/133 GOULBURN STREET, Surry Hills, NSW                NaN   \n1                             Õismäe tee 78-9              176.0   \n2                             Õismäe tee 78-9              176.0   \n3                               Regati pst 12              596.0   \n4                                  Turu tn 34             8151.0   \n\n                        asukoha_ehak_tekstina indeks_ettevotja_aadressis  \\\n0                                         NaN                       2010   \n1  Haabersti linnaosa, Tallinn, Harju maakond                      13513   \n2  Haabersti linnaosa, Tallinn, Harju maakond                      13513   \n3     Pirita linnaosa, Tallinn, Harju maakond                      11911   \n4       Tartu linn, Tartu linn, Tartu maakond                      51004   \n\n   ads_adr_id  ads_ads_oid                    ads_normaliseeritud_taisaadress  \\\n0         NaN          NaN                                                NaN   \n1   2182337.0          NaN  Harju maakond, Tallinn, Haabersti linnaosa, Õi...   \n2   2182337.0          NaN  Harju maakond, Tallinn, Haabersti linnaosa, Õi...   \n3   2363082.0          NaN  Harju maakond, Tallinn, Pirita linnaosa, Regat...   \n4   3047590.0          NaN  Tartu maakond, Tartu linn, Tartu linn, Turu tn 34   \n\n                                teabesysteemi_link  \n0  https://ariregister.rik.ee/est/company/16372442  \n1  https://ariregister.rik.ee/est/company/12754230  \n2  https://ariregister.rik.ee/est/company/12652512  \n3  https://ariregister.rik.ee/est/company/16752073  \n4  https://ariregister.rik.ee/est/company/11694365  ",
      "text/html": "<div>\n<style scoped>\n    .dataframe tbody tr th:only-of-type {\n        vertical-align: middle;\n    }\n\n    .dataframe tbody tr th {\n        vertical-align: top;\n    }\n\n    .dataframe thead th {\n        text-align: right;\n    }\n</style>\n<table border=\"1\" class=\"dataframe\">\n  <thead>\n    <tr style=\"text-align: right;\">\n      <th></th>\n      <th>nimi</th>\n      <th>ariregistri_kood</th>\n      <th>ettevotja_oiguslik_vorm</th>\n      <th>ettevotja_oigusliku_vormi_alaliik</th>\n      <th>kmkr_nr</th>\n      <th>ettevotja_staatus</th>\n      <th>ettevotja_staatus_tekstina</th>\n      <th>ettevotja_esmakande_kpv</th>\n      <th>ettevotja_aadress</th>\n      <th>asukoht_ettevotja_aadressis</th>\n      <th>asukoha_ehak_kood</th>\n      <th>asukoha_ehak_tekstina</th>\n      <th>indeks_ettevotja_aadressis</th>\n      <th>ads_adr_id</th>\n      <th>ads_ads_oid</th>\n      <th>ads_normaliseeritud_taisaadress</th>\n      <th>teabesysteemi_link</th>\n    </tr>\n  </thead>\n  <tbody>\n    <tr>\n      <th>0</th>\n      <td>000 Holdings OÜ</td>\n      <td>16372442</td>\n      <td>Osaühing</td>\n      <td>NaN</td>\n      <td>NaN</td>\n      <td>R</td>\n      <td>Registrisse kantud</td>\n      <td>23.11.2021</td>\n      <td>NaN</td>\n      <td>313A/133 GOULBURN STREET, Surry Hills, NSW</td>\n      <td>NaN</td>\n      <td>NaN</td>\n      <td>2010</td>\n      <td>NaN</td>\n      <td>NaN</td>\n      <td>NaN</td>\n      <td>https://ariregister.rik.ee/est/company/16372442</td>\n    </tr>\n    <tr>\n      <th>1</th>\n      <td>001 group OÜ</td>\n      <td>12754230</td>\n      <td>Osaühing</td>\n      <td>NaN</td>\n      <td>NaN</td>\n      <td>R</td>\n      <td>Registrisse kantud</td>\n      <td>17.11.2014</td>\n      <td>NaN</td>\n      <td>Õismäe tee 78-9</td>\n      <td>176.0</td>\n      <td>Haabersti linnaosa, Tallinn, Harju maakond</td>\n      <td>13513</td>\n      <td>2182337.0</td>\n      <td>NaN</td>\n      <td>Harju maakond, Tallinn, Haabersti linnaosa, Õi...</td>\n      <td>https://ariregister.rik.ee/est/company/12754230</td>\n    </tr>\n    <tr>\n      <th>2</th>\n      <td>001 Kinnisvara OÜ</td>\n      <td>12652512</td>\n      <td>Osaühing</td>\n      <td>NaN</td>\n      <td>EE101721589</td>\n      <td>R</td>\n      <td>Registrisse kantud</td>\n      <td>25.04.2014</td>\n      <td>NaN</td>\n      <td>Õismäe tee 78-9</td>\n      <td>176.0</td>\n      <td>Haabersti linnaosa, Tallinn, Harju maakond</td>\n      <td>13513</td>\n      <td>2182337.0</td>\n      <td>NaN</td>\n      <td>Harju maakond, Tallinn, Haabersti linnaosa, Õi...</td>\n      <td>https://ariregister.rik.ee/est/company/12652512</td>\n    </tr>\n    <tr>\n      <th>3</th>\n      <td>007 Agent &amp; Partners OÜ</td>\n      <td>16752073</td>\n      <td>Osaühing</td>\n      <td>NaN</td>\n      <td>NaN</td>\n      <td>R</td>\n      <td>Registrisse kantud</td>\n      <td>05.06.2023</td>\n      <td>NaN</td>\n      <td>Regati pst 12</td>\n      <td>596.0</td>\n      <td>Pirita linnaosa, Tallinn, Harju maakond</td>\n      <td>11911</td>\n      <td>2363082.0</td>\n      <td>NaN</td>\n      <td>Harju maakond, Tallinn, Pirita linnaosa, Regat...</td>\n      <td>https://ariregister.rik.ee/est/company/16752073</td>\n    </tr>\n    <tr>\n      <th>4</th>\n      <td>007 Autohaus osaühing</td>\n      <td>11694365</td>\n      <td>Osaühing</td>\n      <td>NaN</td>\n      <td>EE101335276</td>\n      <td>R</td>\n      <td>Registrisse kantud</td>\n      <td>30.07.2009</td>\n      <td>NaN</td>\n      <td>Turu tn 34</td>\n      <td>8151.0</td>\n      <td>Tartu linn, Tartu linn, Tartu maakond</td>\n      <td>51004</td>\n      <td>3047590.0</td>\n      <td>NaN</td>\n      <td>Tartu maakond, Tartu linn, Tartu linn, Turu tn 34</td>\n      <td>https://ariregister.rik.ee/est/company/11694365</td>\n    </tr>\n  </tbody>\n</table>\n</div>"
     },
     "execution_count": 2,
     "metadata": {},
     "output_type": "execute_result"
    }
   ],
   "source": [
    "# Read data\n",
    "\n",
    "ettevotja_rekv_lihtandmed = pd.read_csv(\"data/ettevotja_rekvisiidid__lihtandmed.csv\", delimiter=\";\", encoding=\"utf-8\")\n",
    "ettevotja_rekv_lihtandmed.head()"
   ],
   "metadata": {
    "collapsed": false,
    "ExecuteTime": {
     "end_time": "2023-12-14T02:02:42.439188400Z",
     "start_time": "2023-12-14T02:02:39.944278600Z"
    }
   },
   "id": "bbe436f6096a47fa"
  },
  {
   "cell_type": "code",
   "execution_count": 3,
   "outputs": [
    {
     "data": {
      "text/plain": "   ariregistri_kood                     nimi  \\\n0          16372442          000 Holdings OÜ   \n1          12754230             001 group OÜ   \n2          12652512        001 Kinnisvara OÜ   \n3          16752073  007 Agent & Partners OÜ   \n4          11694365    007 Autohaus osaühing   \n\n                                           yldandmed  \n0  {'ettevotteregistri_nr': None, 'esmaregistreer...  \n1  {'ettevotteregistri_nr': None, 'esmaregistreer...  \n2  {'ettevotteregistri_nr': None, 'esmaregistreer...  \n3  {'ettevotteregistri_nr': None, 'esmaregistreer...  \n4  {'ettevotteregistri_nr': None, 'esmaregistreer...  ",
      "text/html": "<div>\n<style scoped>\n    .dataframe tbody tr th:only-of-type {\n        vertical-align: middle;\n    }\n\n    .dataframe tbody tr th {\n        vertical-align: top;\n    }\n\n    .dataframe thead th {\n        text-align: right;\n    }\n</style>\n<table border=\"1\" class=\"dataframe\">\n  <thead>\n    <tr style=\"text-align: right;\">\n      <th></th>\n      <th>ariregistri_kood</th>\n      <th>nimi</th>\n      <th>yldandmed</th>\n    </tr>\n  </thead>\n  <tbody>\n    <tr>\n      <th>0</th>\n      <td>16372442</td>\n      <td>000 Holdings OÜ</td>\n      <td>{'ettevotteregistri_nr': None, 'esmaregistreer...</td>\n    </tr>\n    <tr>\n      <th>1</th>\n      <td>12754230</td>\n      <td>001 group OÜ</td>\n      <td>{'ettevotteregistri_nr': None, 'esmaregistreer...</td>\n    </tr>\n    <tr>\n      <th>2</th>\n      <td>12652512</td>\n      <td>001 Kinnisvara OÜ</td>\n      <td>{'ettevotteregistri_nr': None, 'esmaregistreer...</td>\n    </tr>\n    <tr>\n      <th>3</th>\n      <td>16752073</td>\n      <td>007 Agent &amp; Partners OÜ</td>\n      <td>{'ettevotteregistri_nr': None, 'esmaregistreer...</td>\n    </tr>\n    <tr>\n      <th>4</th>\n      <td>11694365</td>\n      <td>007 Autohaus osaühing</td>\n      <td>{'ettevotteregistri_nr': None, 'esmaregistreer...</td>\n    </tr>\n  </tbody>\n</table>\n</div>"
     },
     "execution_count": 3,
     "metadata": {},
     "output_type": "execute_result"
    }
   ],
   "source": [
    "# Read data\n",
    "\n",
    "ettevotja_rekv_yldandmed = pd.read_json(\"data/ettevotja_rekvisiidid__yldandmed.json\", encoding=\"utf-8\")\n",
    "ettevotja_rekv_yldandmed.head()"
   ],
   "metadata": {
    "collapsed": false,
    "ExecuteTime": {
     "end_time": "2023-12-14T02:05:11.333049Z",
     "start_time": "2023-12-14T02:02:42.439188400Z"
    }
   },
   "id": "9cc125882084e337"
  },
  {
   "cell_type": "code",
   "execution_count": 4,
   "outputs": [
    {
     "data": {
      "text/plain": "   ettevotteregistri_nr esmaregistreerimise_kpv kustutamise_kpv staatus  \\\n0                   NaN              23.11.2021            None       R   \n1                   NaN              17.11.2014            None       R   \n2                   NaN              25.04.2014            None       R   \n3                   NaN              05.06.2023            None       R   \n4                   NaN              30.07.2009            None       R   \n\n     staatus_tekstina  piirkond piirkond_tekstina  \\\n0  Registrisse kantud         5             Tartu   \n1  Registrisse kantud         5             Tartu   \n2  Registrisse kantud         5             Tartu   \n3  Registrisse kantud         5             Tartu   \n4  Registrisse kantud         5             Tartu   \n\n           piirkond_tekstina_pikk evks_registreeritud  \\\n0  Tartu Maakohtu registriosakond                None   \n1  Tartu Maakohtu registriosakond                None   \n2  Tartu Maakohtu registriosakond                None   \n3  Tartu Maakohtu registriosakond                None   \n4  Tartu Maakohtu registriosakond                None   \n\n  evks_registreeritud_kande_kpv  ... valismaa_ariyhing.register  \\\n0                          None  ...                        NaN   \n1                          None  ...                        NaN   \n2                          None  ...                        NaN   \n3                          None  ...                        NaN   \n4                          None  ...                        NaN   \n\n   valismaa_ariyhing.registreerimisnumber  \\\n0                                     NaN   \n1                                     NaN   \n2                                     NaN   \n3                                     NaN   \n4                                     NaN   \n\n  valismaa_ariyhing.majandusaasta_aruande_avalikustamise_kohustus  \\\n0                                                NaN                \n1                                                NaN                \n2                                                NaN                \n3                                                NaN                \n4                                                NaN                \n\n  tegutsemise_tahtajad nimivaartuseta_aktsiad ky_kinnistu_aadressid  \\\n0                  NaN                    NaN                   NaN   \n1                  NaN                    NaN                   NaN   \n2                  NaN                    NaN                   NaN   \n3                  NaN                    NaN                   NaN   \n4                  NaN                    NaN                   NaN   \n\n   taiendavad_nimed esmanimetamise_ajad  valislepingud kompromissi_tahtajad  \n0               NaN                 NaN            NaN                  NaN  \n1               NaN                 NaN            NaN                  NaN  \n2               NaN                 NaN            NaN                  NaN  \n3               NaN                 NaN            NaN                  NaN  \n4               NaN                 NaN            NaN                  NaN  \n\n[5 rows x 62 columns]",
      "text/html": "<div>\n<style scoped>\n    .dataframe tbody tr th:only-of-type {\n        vertical-align: middle;\n    }\n\n    .dataframe tbody tr th {\n        vertical-align: top;\n    }\n\n    .dataframe thead th {\n        text-align: right;\n    }\n</style>\n<table border=\"1\" class=\"dataframe\">\n  <thead>\n    <tr style=\"text-align: right;\">\n      <th></th>\n      <th>ettevotteregistri_nr</th>\n      <th>esmaregistreerimise_kpv</th>\n      <th>kustutamise_kpv</th>\n      <th>staatus</th>\n      <th>staatus_tekstina</th>\n      <th>piirkond</th>\n      <th>piirkond_tekstina</th>\n      <th>piirkond_tekstina_pikk</th>\n      <th>evks_registreeritud</th>\n      <th>evks_registreeritud_kande_kpv</th>\n      <th>...</th>\n      <th>valismaa_ariyhing.register</th>\n      <th>valismaa_ariyhing.registreerimisnumber</th>\n      <th>valismaa_ariyhing.majandusaasta_aruande_avalikustamise_kohustus</th>\n      <th>tegutsemise_tahtajad</th>\n      <th>nimivaartuseta_aktsiad</th>\n      <th>ky_kinnistu_aadressid</th>\n      <th>taiendavad_nimed</th>\n      <th>esmanimetamise_ajad</th>\n      <th>valislepingud</th>\n      <th>kompromissi_tahtajad</th>\n    </tr>\n  </thead>\n  <tbody>\n    <tr>\n      <th>0</th>\n      <td>NaN</td>\n      <td>23.11.2021</td>\n      <td>None</td>\n      <td>R</td>\n      <td>Registrisse kantud</td>\n      <td>5</td>\n      <td>Tartu</td>\n      <td>Tartu Maakohtu registriosakond</td>\n      <td>None</td>\n      <td>None</td>\n      <td>...</td>\n      <td>NaN</td>\n      <td>NaN</td>\n      <td>NaN</td>\n      <td>NaN</td>\n      <td>NaN</td>\n      <td>NaN</td>\n      <td>NaN</td>\n      <td>NaN</td>\n      <td>NaN</td>\n      <td>NaN</td>\n    </tr>\n    <tr>\n      <th>1</th>\n      <td>NaN</td>\n      <td>17.11.2014</td>\n      <td>None</td>\n      <td>R</td>\n      <td>Registrisse kantud</td>\n      <td>5</td>\n      <td>Tartu</td>\n      <td>Tartu Maakohtu registriosakond</td>\n      <td>None</td>\n      <td>None</td>\n      <td>...</td>\n      <td>NaN</td>\n      <td>NaN</td>\n      <td>NaN</td>\n      <td>NaN</td>\n      <td>NaN</td>\n      <td>NaN</td>\n      <td>NaN</td>\n      <td>NaN</td>\n      <td>NaN</td>\n      <td>NaN</td>\n    </tr>\n    <tr>\n      <th>2</th>\n      <td>NaN</td>\n      <td>25.04.2014</td>\n      <td>None</td>\n      <td>R</td>\n      <td>Registrisse kantud</td>\n      <td>5</td>\n      <td>Tartu</td>\n      <td>Tartu Maakohtu registriosakond</td>\n      <td>None</td>\n      <td>None</td>\n      <td>...</td>\n      <td>NaN</td>\n      <td>NaN</td>\n      <td>NaN</td>\n      <td>NaN</td>\n      <td>NaN</td>\n      <td>NaN</td>\n      <td>NaN</td>\n      <td>NaN</td>\n      <td>NaN</td>\n      <td>NaN</td>\n    </tr>\n    <tr>\n      <th>3</th>\n      <td>NaN</td>\n      <td>05.06.2023</td>\n      <td>None</td>\n      <td>R</td>\n      <td>Registrisse kantud</td>\n      <td>5</td>\n      <td>Tartu</td>\n      <td>Tartu Maakohtu registriosakond</td>\n      <td>None</td>\n      <td>None</td>\n      <td>...</td>\n      <td>NaN</td>\n      <td>NaN</td>\n      <td>NaN</td>\n      <td>NaN</td>\n      <td>NaN</td>\n      <td>NaN</td>\n      <td>NaN</td>\n      <td>NaN</td>\n      <td>NaN</td>\n      <td>NaN</td>\n    </tr>\n    <tr>\n      <th>4</th>\n      <td>NaN</td>\n      <td>30.07.2009</td>\n      <td>None</td>\n      <td>R</td>\n      <td>Registrisse kantud</td>\n      <td>5</td>\n      <td>Tartu</td>\n      <td>Tartu Maakohtu registriosakond</td>\n      <td>None</td>\n      <td>None</td>\n      <td>...</td>\n      <td>NaN</td>\n      <td>NaN</td>\n      <td>NaN</td>\n      <td>NaN</td>\n      <td>NaN</td>\n      <td>NaN</td>\n      <td>NaN</td>\n      <td>NaN</td>\n      <td>NaN</td>\n      <td>NaN</td>\n    </tr>\n  </tbody>\n</table>\n<p>5 rows × 62 columns</p>\n</div>"
     },
     "execution_count": 4,
     "metadata": {},
     "output_type": "execute_result"
    }
   ],
   "source": [
    "# Flatten data\n",
    "\n",
    "flatten_yldandmed = pd.json_normalize(ettevotja_rekv_yldandmed[\"yldandmed\"])\n",
    "flatten_yldandmed.head()"
   ],
   "metadata": {
    "collapsed": false,
    "ExecuteTime": {
     "end_time": "2023-12-14T02:05:33.620247700Z",
     "start_time": "2023-12-14T02:05:11.344046300Z"
    }
   },
   "id": "12b64caa40b07d89"
  },
  {
   "cell_type": "code",
   "execution_count": 5,
   "outputs": [
    {
     "name": "stdout",
     "output_type": "stream",
     "text": [
      "<class 'pandas.core.frame.DataFrame'>\n",
      "RangeIndex: 358536 entries, 0 to 358535\n",
      "Data columns (total 62 columns):\n",
      " #   Column                                                           Non-Null Count   Dtype  \n",
      "---  ------                                                           --------------   -----  \n",
      " 0   ettevotteregistri_nr                                             14434 non-null   float64\n",
      " 1   esmaregistreerimise_kpv                                          358536 non-null  object \n",
      " 2   kustutamise_kpv                                                  2 non-null       object \n",
      " 3   staatus                                                          358536 non-null  object \n",
      " 4   staatus_tekstina                                                 358536 non-null  object \n",
      " 5   piirkond                                                         358536 non-null  int64  \n",
      " 6   piirkond_tekstina                                                358536 non-null  object \n",
      " 7   piirkond_tekstina_pikk                                           358536 non-null  object \n",
      " 8   evks_registreeritud                                              0 non-null       object \n",
      " 9   evks_registreeritud_kande_kpv                                    0 non-null       object \n",
      " 10  oiguslik_vorm                                                    358536 non-null  object \n",
      " 11  oiguslik_vorm_nr                                                 358536 non-null  int64  \n",
      " 12  oiguslik_vorm_tekstina                                           358536 non-null  object \n",
      " 13  oigusliku_vormi_alaliik                                          28316 non-null   object \n",
      " 14  lahknevusteade_puudumisest                                       36765 non-null   object \n",
      " 15  oigusliku_vormi_alaliik_tekstina                                 358536 non-null  object \n",
      " 16  asutatud_sissemakset_tegemata                                    358536 non-null  bool   \n",
      " 17  loobunud_vorminouetest                                           1498 non-null    object \n",
      " 18  on_raamatupidamiskohustuslane                                    358536 non-null  bool   \n",
      " 19  tegutseb                                                         26525 non-null   object \n",
      " 20  tegutseb_tekstina                                                358536 non-null  object \n",
      " 21  staatused                                                        358536 non-null  object \n",
      " 22  arinimed                                                         358534 non-null  object \n",
      " 23  aadressid                                                        328874 non-null  object \n",
      " 24  kontaktisiku_aadressid                                           15572 non-null   object \n",
      " 25  oiguslikud_vormid                                                358534 non-null  object \n",
      " 26  kapitalid                                                        273206 non-null  object \n",
      " 27  majandusaastad                                                   348209 non-null  object \n",
      " 28  pohikirjad                                                       313668 non-null  object \n",
      " 29  markused_kaardil                                                 306430 non-null  object \n",
      " 30  sidevahendid                                                     349894 non-null  object \n",
      " 31  teatatud_tegevusalad                                             344949 non-null  object \n",
      " 32  info_majandusaasta_aruannetest                                   266040 non-null  object \n",
      " 33  esitab_kasusaajad                                                358536 non-null  bool   \n",
      " 34  oigusjargsused                                                   22788 non-null   object \n",
      " 35  seisundi_muutused                                                8338 non-null    object \n",
      " 36  oigusliku_vormi_alaliigid                                        28307 non-null   object \n",
      " 37  asutamise_ajad                                                   5725 non-null    object \n",
      " 38  kinnisasjad                                                      1123 non-null    object \n",
      " 39  eesmargid_kaardil                                                2278 non-null    object \n",
      " 40  tegevusalad_kaardil                                              6024 non-null    object \n",
      " 41  mkr_reg_kpv                                                      7535 non-null    object \n",
      " 42  ettevotja_tegevuse_aeg                                           4129 non-null    object \n",
      " 43  raamatupidamiskohustused                                         1886 non-null    object \n",
      " 44  mps_koodid                                                       65 non-null      object \n",
      " 45  valismaa_ariyhing.arinimi                                        480 non-null     object \n",
      " 46  valismaa_ariyhing.asukoht                                        480 non-null     object \n",
      " 47  valismaa_ariyhing.oiguslik_vorm                                  480 non-null     object \n",
      " 48  valismaa_ariyhing.sarnane_eesti_oigvorm                          480 non-null     object \n",
      " 49  valismaa_ariyhing.sarnane_eesti_oiguslik_vorm_markus             480 non-null     object \n",
      " 50  valismaa_ariyhing.maa_mille_seaduse_alusel_tegutseb              480 non-null     object \n",
      " 51  valismaa_ariyhing.maa_mille_seaduse_alusel_tegutseb_markus       480 non-null     object \n",
      " 52  valismaa_ariyhing.register                                       480 non-null     object \n",
      " 53  valismaa_ariyhing.registreerimisnumber                           480 non-null     object \n",
      " 54  valismaa_ariyhing.majandusaasta_aruande_avalikustamise_kohustus  480 non-null     object \n",
      " 55  tegutsemise_tahtajad                                             352 non-null     object \n",
      " 56  nimivaartuseta_aktsiad                                           92 non-null      object \n",
      " 57  ky_kinnistu_aadressid                                            24755 non-null   object \n",
      " 58  taiendavad_nimed                                                 12762 non-null   object \n",
      " 59  esmanimetamise_ajad                                              559 non-null     object \n",
      " 60  valislepingud                                                    16 non-null      object \n",
      " 61  kompromissi_tahtajad                                             2 non-null       object \n",
      "dtypes: bool(3), float64(1), int64(2), object(56)\n",
      "memory usage: 162.4+ MB\n"
     ]
    }
   ],
   "source": [
    "flatten_yldandmed.info()"
   ],
   "metadata": {
    "collapsed": false,
    "ExecuteTime": {
     "end_time": "2023-12-14T02:05:38.040374400Z",
     "start_time": "2023-12-14T02:05:33.619248Z"
    }
   },
   "id": "ce7c8260ebce682d"
  },
  {
   "cell_type": "code",
   "execution_count": 6,
   "outputs": [],
   "source": [
    "# Explode data\n",
    "\n",
    "df_staatused = pd.json_normalize(flatten_yldandmed[\"staatused\"].explode())\n",
    "df_arinimed = pd.json_normalize(flatten_yldandmed[\"arinimed\"].explode())\n",
    "df_aadressid = pd.json_normalize(flatten_yldandmed[\"aadressid\"].explode())\n",
    "df_kapitalid = pd.json_normalize(flatten_yldandmed[\"kapitalid\"].explode())\n",
    "df_teatatud_tegevusalad = pd.json_normalize(flatten_yldandmed[\"teatatud_tegevusalad\"].explode())"
   ],
   "metadata": {
    "collapsed": false,
    "ExecuteTime": {
     "end_time": "2023-12-14T02:06:14.347539400Z",
     "start_time": "2023-12-14T02:05:38.044374200Z"
    }
   },
   "id": "e391d8ff84d24004"
  },
  {
   "cell_type": "code",
   "execution_count": 7,
   "outputs": [],
   "source": [
    "df = pd.concat([df_staatused, df_arinimed, df_aadressid, df_kapitalid, df_teatatud_tegevusalad], axis=1)\n",
    "df1 = df_staatused\n",
    "algus_kpv = df1[\"algus_kpv\"]\n",
    "staatus = df1[\"staatus_tekstina\"]\n",
    "df = df[[\"sisu\", \"emtak_tekstina\", \"riik_tekstina\", \"ehak_nimetus\", \"kapitali_suurus\", \"kapitali_valuuta\"]]\n",
    "df[\"algus_kpv\"] = algus_kpv\n",
    "df[\"staatus\"] = staatus"
   ],
   "metadata": {
    "collapsed": false,
    "ExecuteTime": {
     "end_time": "2023-12-14T02:06:20.552668600Z",
     "start_time": "2023-12-14T02:06:14.360534400Z"
    }
   },
   "id": "23cc0ab23e3d2d39"
  },
  {
   "cell_type": "code",
   "execution_count": 8,
   "outputs": [
    {
     "data": {
      "text/plain": "                      sisu                                     emtak_tekstina  \\\n0          000 Holdings OÜ                                 Reklaamiagentuurid   \n1             001 group OÜ                          Kinnisvarabüroode tegevus   \n2        001 Kinnisvara OÜ                     Muu posti- ja kulleriteenistus   \n3  007 Agent & Partners OÜ                                 Reklaamiagentuurid   \n4    007 Autohaus osaühing  Sõiduautode ja väikebusside (täismassiga alla ...   \n\n  riik_tekstina   ehak_nimetus kapitali_suurus kapitali_valuuta   algus_kpv  \\\n0    Austraalia            NaN         2500.00              EUR  23.11.2021   \n1         Eesti  Harju maakond         2500.00              EUR  17.11.2014   \n2         Eesti  Harju maakond         2500.00              EUR  25.04.2014   \n3         Eesti  Harju maakond            0.01              EUR  05.06.2023   \n4         Eesti  Tartu maakond         2684.00              EUR  30.07.2009   \n\n              staatus  \n0  Registrisse kantud  \n1  Registrisse kantud  \n2  Registrisse kantud  \n3  Registrisse kantud  \n4  Registrisse kantud  ",
      "text/html": "<div>\n<style scoped>\n    .dataframe tbody tr th:only-of-type {\n        vertical-align: middle;\n    }\n\n    .dataframe tbody tr th {\n        vertical-align: top;\n    }\n\n    .dataframe thead th {\n        text-align: right;\n    }\n</style>\n<table border=\"1\" class=\"dataframe\">\n  <thead>\n    <tr style=\"text-align: right;\">\n      <th></th>\n      <th>sisu</th>\n      <th>emtak_tekstina</th>\n      <th>riik_tekstina</th>\n      <th>ehak_nimetus</th>\n      <th>kapitali_suurus</th>\n      <th>kapitali_valuuta</th>\n      <th>algus_kpv</th>\n      <th>staatus</th>\n    </tr>\n  </thead>\n  <tbody>\n    <tr>\n      <th>0</th>\n      <td>000 Holdings OÜ</td>\n      <td>Reklaamiagentuurid</td>\n      <td>Austraalia</td>\n      <td>NaN</td>\n      <td>2500.00</td>\n      <td>EUR</td>\n      <td>23.11.2021</td>\n      <td>Registrisse kantud</td>\n    </tr>\n    <tr>\n      <th>1</th>\n      <td>001 group OÜ</td>\n      <td>Kinnisvarabüroode tegevus</td>\n      <td>Eesti</td>\n      <td>Harju maakond</td>\n      <td>2500.00</td>\n      <td>EUR</td>\n      <td>17.11.2014</td>\n      <td>Registrisse kantud</td>\n    </tr>\n    <tr>\n      <th>2</th>\n      <td>001 Kinnisvara OÜ</td>\n      <td>Muu posti- ja kulleriteenistus</td>\n      <td>Eesti</td>\n      <td>Harju maakond</td>\n      <td>2500.00</td>\n      <td>EUR</td>\n      <td>25.04.2014</td>\n      <td>Registrisse kantud</td>\n    </tr>\n    <tr>\n      <th>3</th>\n      <td>007 Agent &amp; Partners OÜ</td>\n      <td>Reklaamiagentuurid</td>\n      <td>Eesti</td>\n      <td>Harju maakond</td>\n      <td>0.01</td>\n      <td>EUR</td>\n      <td>05.06.2023</td>\n      <td>Registrisse kantud</td>\n    </tr>\n    <tr>\n      <th>4</th>\n      <td>007 Autohaus osaühing</td>\n      <td>Sõiduautode ja väikebusside (täismassiga alla ...</td>\n      <td>Eesti</td>\n      <td>Tartu maakond</td>\n      <td>2684.00</td>\n      <td>EUR</td>\n      <td>30.07.2009</td>\n      <td>Registrisse kantud</td>\n    </tr>\n  </tbody>\n</table>\n</div>"
     },
     "execution_count": 8,
     "metadata": {},
     "output_type": "execute_result"
    }
   ],
   "source": [
    "df[\"ehak_nimetus\"] = df[\"ehak_nimetus\"].str.extract(r\", ([\\w\\-]+ maakond)\")[0]\n",
    "df.head()"
   ],
   "metadata": {
    "collapsed": false,
    "ExecuteTime": {
     "end_time": "2023-12-14T02:06:22.315914400Z",
     "start_time": "2023-12-14T02:06:20.564664600Z"
    }
   },
   "id": "4fc24680b4f46a69"
  },
  {
   "cell_type": "code",
   "execution_count": 9,
   "outputs": [
    {
     "data": {
      "text/plain": "sisu                 51741\nemtak_tekstina       13587\nriik_tekstina       154627\nehak_nimetus         83875\nkapitali_suurus     137069\nkapitali_valuuta    137069\nalgus_kpv            42264\nstaatus              42264\ndtype: int64"
     },
     "execution_count": 9,
     "metadata": {},
     "output_type": "execute_result"
    }
   ],
   "source": [
    "df.isnull().sum()"
   ],
   "metadata": {
    "collapsed": false,
    "ExecuteTime": {
     "end_time": "2023-12-14T02:06:23.747952100Z",
     "start_time": "2023-12-14T02:06:22.338907200Z"
    }
   },
   "id": "1808559647f4a8a"
  },
  {
   "cell_type": "code",
   "execution_count": 10,
   "outputs": [
    {
     "data": {
      "text/plain": "array(['Registrisse kantud', 'Likvideerimisel', 'Kustutatud', 'Pankrotis',\n       nan], dtype=object)"
     },
     "execution_count": 10,
     "metadata": {},
     "output_type": "execute_result"
    }
   ],
   "source": [
    "df[\"staatus\"].unique()"
   ],
   "metadata": {
    "collapsed": false,
    "ExecuteTime": {
     "end_time": "2023-12-14T02:06:23.954624900Z",
     "start_time": "2023-12-14T02:06:23.748951800Z"
    }
   },
   "id": "b77a941e365f3bf4"
  },
  {
   "cell_type": "code",
   "execution_count": 11,
   "outputs": [],
   "source": [
    "df.dropna(inplace=True)"
   ],
   "metadata": {
    "collapsed": false,
    "ExecuteTime": {
     "end_time": "2023-12-14T02:06:25.597771900Z",
     "start_time": "2023-12-14T02:06:23.948117400Z"
    }
   },
   "id": "2f96c380756fbdb9"
  },
  {
   "cell_type": "code",
   "execution_count": 12,
   "outputs": [
    {
     "data": {
      "text/plain": "                      sisu                                     emtak_tekstina  \\\n1             001 group OÜ                          Kinnisvarabüroode tegevus   \n2        001 Kinnisvara OÜ                     Muu posti- ja kulleriteenistus   \n3  007 Agent & Partners OÜ                                 Reklaamiagentuurid   \n4    007 Autohaus osaühing  Sõiduautode ja väikebusside (täismassiga alla ...   \n5        013 investment OÜ      Mootorsõidukite osade ja lisaseadmete jaemüük   \n\n  riik_tekstina   ehak_nimetus kapitali_suurus kapitali_valuuta   algus_kpv  \\\n1         Eesti  Harju maakond         2500.00              EUR  17.11.2014   \n2         Eesti  Harju maakond         2500.00              EUR  25.04.2014   \n3         Eesti  Harju maakond            0.01              EUR  05.06.2023   \n4         Eesti  Tartu maakond         2684.00              EUR  30.07.2009   \n5         Eesti  Harju maakond         2500.00              EUR  29.10.2015   \n\n              staatus  label  \n1  Registrisse kantud      0  \n2  Registrisse kantud      0  \n3  Registrisse kantud      0  \n4  Registrisse kantud      0  \n5  Registrisse kantud      0  ",
      "text/html": "<div>\n<style scoped>\n    .dataframe tbody tr th:only-of-type {\n        vertical-align: middle;\n    }\n\n    .dataframe tbody tr th {\n        vertical-align: top;\n    }\n\n    .dataframe thead th {\n        text-align: right;\n    }\n</style>\n<table border=\"1\" class=\"dataframe\">\n  <thead>\n    <tr style=\"text-align: right;\">\n      <th></th>\n      <th>sisu</th>\n      <th>emtak_tekstina</th>\n      <th>riik_tekstina</th>\n      <th>ehak_nimetus</th>\n      <th>kapitali_suurus</th>\n      <th>kapitali_valuuta</th>\n      <th>algus_kpv</th>\n      <th>staatus</th>\n      <th>label</th>\n    </tr>\n  </thead>\n  <tbody>\n    <tr>\n      <th>1</th>\n      <td>001 group OÜ</td>\n      <td>Kinnisvarabüroode tegevus</td>\n      <td>Eesti</td>\n      <td>Harju maakond</td>\n      <td>2500.00</td>\n      <td>EUR</td>\n      <td>17.11.2014</td>\n      <td>Registrisse kantud</td>\n      <td>0</td>\n    </tr>\n    <tr>\n      <th>2</th>\n      <td>001 Kinnisvara OÜ</td>\n      <td>Muu posti- ja kulleriteenistus</td>\n      <td>Eesti</td>\n      <td>Harju maakond</td>\n      <td>2500.00</td>\n      <td>EUR</td>\n      <td>25.04.2014</td>\n      <td>Registrisse kantud</td>\n      <td>0</td>\n    </tr>\n    <tr>\n      <th>3</th>\n      <td>007 Agent &amp; Partners OÜ</td>\n      <td>Reklaamiagentuurid</td>\n      <td>Eesti</td>\n      <td>Harju maakond</td>\n      <td>0.01</td>\n      <td>EUR</td>\n      <td>05.06.2023</td>\n      <td>Registrisse kantud</td>\n      <td>0</td>\n    </tr>\n    <tr>\n      <th>4</th>\n      <td>007 Autohaus osaühing</td>\n      <td>Sõiduautode ja väikebusside (täismassiga alla ...</td>\n      <td>Eesti</td>\n      <td>Tartu maakond</td>\n      <td>2684.00</td>\n      <td>EUR</td>\n      <td>30.07.2009</td>\n      <td>Registrisse kantud</td>\n      <td>0</td>\n    </tr>\n    <tr>\n      <th>5</th>\n      <td>013 investment OÜ</td>\n      <td>Mootorsõidukite osade ja lisaseadmete jaemüük</td>\n      <td>Eesti</td>\n      <td>Harju maakond</td>\n      <td>2500.00</td>\n      <td>EUR</td>\n      <td>29.10.2015</td>\n      <td>Registrisse kantud</td>\n      <td>0</td>\n    </tr>\n  </tbody>\n</table>\n</div>"
     },
     "execution_count": 12,
     "metadata": {},
     "output_type": "execute_result"
    }
   ],
   "source": [
    "# Label data such that 0 is active and 1 is inactive\n",
    "\n",
    "df[\"label\"] = 0\n",
    "df.loc[df[\"staatus\"] == \"Kustutatud\", \"label\"] = 1\n",
    "df.loc[df[\"staatus\"] == \"Likvideerimisel\", \"label\"] = 1\n",
    "df.loc[df[\"staatus\"] == \"Pankrotis\", \"label\"] = 1\n",
    "df.head()\n"
   ],
   "metadata": {
    "collapsed": false,
    "ExecuteTime": {
     "end_time": "2023-12-14T02:06:25.785342600Z",
     "start_time": "2023-12-14T02:06:25.605770600Z"
    }
   },
   "id": "980d2575464eb757"
  },
  {
   "cell_type": "code",
   "execution_count": 13,
   "outputs": [
    {
     "data": {
      "text/plain": "0    200180\n1      4944\nName: label, dtype: int64"
     },
     "execution_count": 13,
     "metadata": {},
     "output_type": "execute_result"
    }
   ],
   "source": [
    "df[\"label\"].value_counts()"
   ],
   "metadata": {
    "collapsed": false,
    "ExecuteTime": {
     "end_time": "2023-12-14T02:06:25.810274100Z",
     "start_time": "2023-12-14T02:06:25.782343400Z"
    }
   },
   "id": "a4eb203c2e484b8d"
  },
  {
   "cell_type": "code",
   "execution_count": 14,
   "outputs": [
    {
     "data": {
      "text/plain": "0    4944\n1    4944\nName: label, dtype: int64"
     },
     "execution_count": 14,
     "metadata": {},
     "output_type": "execute_result"
    }
   ],
   "source": [
    "# Downsample data\n",
    "\n",
    "df_majority = df[df.label==0]\n",
    "df_minority = df[df.label==1]\n",
    "df_minority_downsample = resample(df_majority, replace=False, n_samples=len(df_minority), random_state=42)\n",
    "df_downsampled = pd.concat([df_minority_downsample, df_minority])\n",
    "df_downsampled.label.value_counts()"
   ],
   "metadata": {
    "collapsed": false,
    "ExecuteTime": {
     "end_time": "2023-12-14T02:06:26.028254900Z",
     "start_time": "2023-12-14T02:06:25.811275100Z"
    }
   },
   "id": "2996054bd80d5636"
  },
  {
   "cell_type": "code",
   "execution_count": 15,
   "outputs": [
    {
     "data": {
      "text/plain": "array(['Registrisse kantud', 'Likvideerimisel', 'Kustutatud', 'Pankrotis'],\n      dtype=object)"
     },
     "execution_count": 15,
     "metadata": {},
     "output_type": "execute_result"
    }
   ],
   "source": [
    "df_downsampled[\"staatus\"].unique()"
   ],
   "metadata": {
    "collapsed": false,
    "ExecuteTime": {
     "end_time": "2023-12-14T02:06:26.073747300Z",
     "start_time": "2023-12-14T02:06:26.018731500Z"
    }
   },
   "id": "7e0b77bf8271ed7c"
  },
  {
   "cell_type": "code",
   "execution_count": 16,
   "outputs": [],
   "source": [
    "#category_columns = [\"ehak_nimetus\", \"staatus\", \"riik_tekstina\", \"kapitali_valuuta\", \"emtak_tekstina\"]\n",
    "numeric_values = [\"kapitali_suurus\", \"label\"]\n",
    "df_downsampled  = df_downsampled[numeric_values]"
   ],
   "metadata": {
    "collapsed": false,
    "ExecuteTime": {
     "end_time": "2023-12-14T02:06:26.100739500Z",
     "start_time": "2023-12-14T02:06:26.039250100Z"
    }
   },
   "id": "f638eef280e94aed"
  },
  {
   "cell_type": "code",
   "execution_count": 17,
   "outputs": [],
   "source": [
    "# Train model\n",
    "\n",
    "X = df_downsampled.iloc[:, :-1]\n",
    "y = df_downsampled.iloc[:, -1]\n",
    "X_train, X_test, y_train, y_test = train_test_split(X, y, test_size=0.2, random_state=42)\n",
    "scaler = StandardScaler()\n",
    "X_train = scaler.fit_transform(X_train)\n",
    "X_test = scaler.transform(X_test)\n",
    "log_reg = LogisticRegression()\n",
    "log_reg.fit(X_train, y_train)\n",
    "y_pred = log_reg.predict(X_test)\n"
   ],
   "metadata": {
    "collapsed": false,
    "ExecuteTime": {
     "end_time": "2023-12-14T02:06:26.589902700Z",
     "start_time": "2023-12-14T02:06:26.066750Z"
    }
   },
   "id": "33ce0da2759571cd"
  },
  {
   "cell_type": "code",
   "execution_count": 18,
   "outputs": [
    {
     "data": {
      "text/plain": "1964"
     },
     "execution_count": 18,
     "metadata": {},
     "output_type": "execute_result"
    }
   ],
   "source": [
    "sum(y_pred)"
   ],
   "metadata": {
    "collapsed": false,
    "ExecuteTime": {
     "end_time": "2023-12-14T02:06:26.611916900Z",
     "start_time": "2023-12-14T02:06:26.590902300Z"
    }
   },
   "id": "91b4ffe41c6ef13e"
  },
  {
   "cell_type": "code",
   "execution_count": 19,
   "outputs": [
    {
     "data": {
      "text/plain": "0.4924165824064712"
     },
     "execution_count": 19,
     "metadata": {},
     "output_type": "execute_result"
    }
   ],
   "source": [
    "accuracy_score(y_test, y_pred)"
   ],
   "metadata": {
    "collapsed": false,
    "ExecuteTime": {
     "end_time": "2023-12-14T02:06:26.798143400Z",
     "start_time": "2023-12-14T02:06:26.601920300Z"
    }
   },
   "id": "e952255740321d63"
  },
  {
   "cell_type": "code",
   "execution_count": 20,
   "outputs": [
    {
     "data": {
      "text/plain": "0.5013906447534766"
     },
     "execution_count": 20,
     "metadata": {},
     "output_type": "execute_result"
    }
   ],
   "source": [
    "y_train_pred = log_reg.predict(X_train)\n",
    "accuracy_score(y_train, y_train_pred)"
   ],
   "metadata": {
    "collapsed": false,
    "ExecuteTime": {
     "end_time": "2023-12-14T02:06:26.808141Z",
     "start_time": "2023-12-14T02:06:26.648441300Z"
    }
   },
   "id": "976edcfa127c7383"
  },
  {
   "cell_type": "code",
   "execution_count": 21,
   "outputs": [
    {
     "data": {
      "text/plain": "<Figure size 640x480 with 1 Axes>",
      "image/png": "[encoded data removed]"
     },
     "metadata": {},
     "output_type": "display_data"
    }
   ],
   "source": [
    "plt.scatter(X_train, y_train, c=y_train, cmap='viridis', label=\"Class 1 vs. Class 0\")\n",
    "plt.xlabel(\"Feature\")\n",
    "plt.ylabel(\"Target\")\n",
    "plt.legend()\n",
    "plt.show()"
   ],
   "metadata": {
    "collapsed": false,
    "ExecuteTime": {
     "end_time": "2023-12-14T02:06:28.611431500Z",
     "start_time": "2023-12-14T02:06:26.684178800Z"
    }
   },
   "id": "b6b13579cf9f7bbe"
  },
  {
   "cell_type": "code",
   "execution_count": 22,
   "outputs": [],
   "source": [
    "log_data = df.copy()"
   ],
   "metadata": {
    "collapsed": false,
    "ExecuteTime": {
     "end_time": "2023-12-14T02:06:28.796131600Z",
     "start_time": "2023-12-14T02:06:28.613433200Z"
    }
   },
   "id": "83a0dced947e5cc6"
  },
  {
   "cell_type": "code",
   "execution_count": 23,
   "outputs": [
    {
     "name": "stdout",
     "output_type": "stream",
     "text": [
      "<class 'pandas.core.frame.DataFrame'>\n",
      "Int64Index: 205124 entries, 1 to 358532\n",
      "Data columns (total 9 columns):\n",
      " #   Column            Non-Null Count   Dtype \n",
      "---  ------            --------------   ----- \n",
      " 0   sisu              205124 non-null  object\n",
      " 1   emtak_tekstina    205124 non-null  object\n",
      " 2   riik_tekstina     205124 non-null  object\n",
      " 3   ehak_nimetus      205124 non-null  object\n",
      " 4   kapitali_suurus   205124 non-null  object\n",
      " 5   kapitali_valuuta  205124 non-null  object\n",
      " 6   algus_kpv         205124 non-null  object\n",
      " 7   staatus           205124 non-null  object\n",
      " 8   label             205124 non-null  int64 \n",
      "dtypes: int64(1), object(8)\n",
      "memory usage: 15.6+ MB\n"
     ]
    }
   ],
   "source": [
    "log_data.info()"
   ],
   "metadata": {
    "collapsed": false,
    "ExecuteTime": {
     "end_time": "2023-12-14T02:06:29.357684400Z",
     "start_time": "2023-12-14T02:06:28.689165800Z"
    }
   },
   "id": "d40cb0e7a9028867"
  },
  {
   "cell_type": "code",
   "execution_count": 24,
   "outputs": [
    {
     "name": "stdout",
     "output_type": "stream",
     "text": [
      "0    15000\n",
      "1    15000\n",
      "Name: label, dtype: int64\n"
     ]
    }
   ],
   "source": [
    "# Under sample data\n",
    "\n",
    "df_majority = df[df['label'] == 0]\n",
    "df_minority = df[df['label'] == 1]\n",
    "\n",
    "df_majority_undersampled = resample(df_majority, replace=False, n_samples=15000, random_state=42)\n",
    "df_minority_undersampled = resample(df_minority, replace=True, n_samples=15000, random_state=42)\n",
    "df_undersampled = pd.concat([df_majority_undersampled, df_minority_undersampled])\n",
    "df_undersampled = df_undersampled.sample(frac=1, random_state=42)\n",
    "print(df_undersampled['label'].value_counts())"
   ],
   "metadata": {
    "collapsed": false,
    "ExecuteTime": {
     "end_time": "2023-12-14T02:06:29.768810400Z",
     "start_time": "2023-12-14T02:06:29.337690900Z"
    }
   },
   "id": "e618feeb1686deb3"
  },
  {
   "cell_type": "code",
   "execution_count": 25,
   "outputs": [
    {
     "data": {
      "text/plain": "                             sisu  \\\n52917                    Drivz OÜ   \n293099               SKA Trade OÜ   \n189947                Odrakunn OÜ   \n80943   GLOBAL ESG MASTERMINDS OÜ   \n20809                  Arkilla OÜ   \n\n                                           emtak_tekstina riik_tekstina  \\\n52917   Muu reisimisega seotud reserveerimine, sh giid...         Eesti   \n293099                                Muu puhastustegevus         Eesti   \n189947              Muu ehitiste viimistlus ja lõpetamine         Eesti   \n80943                                  Muud eriehitustööd         Eesti   \n20809                                    Rõivaste jaemüük         Eesti   \n\n         ehak_nimetus kapitali_suurus kapitali_valuuta   algus_kpv  \\\n52917   Harju maakond         2500.00              EUR  15.02.2018   \n293099  Harju maakond         2500.00              EUR  25.03.2020   \n189947  Harju maakond         2500.00              EUR  23.10.2023   \n80943   Harju maakond         2500.00              EUR  07.11.2023   \n20809   Harju maakond         2500.00              EUR  21.05.2019   \n\n                   staatus  label  \n52917   Registrisse kantud      0  \n293099     Likvideerimisel      1  \n189947     Likvideerimisel      1  \n80943      Likvideerimisel      1  \n20809   Registrisse kantud      0  ",
      "text/html": "<div>\n<style scoped>\n    .dataframe tbody tr th:only-of-type {\n        vertical-align: middle;\n    }\n\n    .dataframe tbody tr th {\n        vertical-align: top;\n    }\n\n    .dataframe thead th {\n        text-align: right;\n    }\n</style>\n<table border=\"1\" class=\"dataframe\">\n  <thead>\n    <tr style=\"text-align: right;\">\n      <th></th>\n      <th>sisu</th>\n      <th>emtak_tekstina</th>\n      <th>riik_tekstina</th>\n      <th>ehak_nimetus</th>\n      <th>kapitali_suurus</th>\n      <th>kapitali_valuuta</th>\n      <th>algus_kpv</th>\n      <th>staatus</th>\n      <th>label</th>\n    </tr>\n  </thead>\n  <tbody>\n    <tr>\n      <th>52917</th>\n      <td>Drivz OÜ</td>\n      <td>Muu reisimisega seotud reserveerimine, sh giid...</td>\n      <td>Eesti</td>\n      <td>Harju maakond</td>\n      <td>2500.00</td>\n      <td>EUR</td>\n      <td>15.02.2018</td>\n      <td>Registrisse kantud</td>\n      <td>0</td>\n    </tr>\n    <tr>\n      <th>293099</th>\n      <td>SKA Trade OÜ</td>\n      <td>Muu puhastustegevus</td>\n      <td>Eesti</td>\n      <td>Harju maakond</td>\n      <td>2500.00</td>\n      <td>EUR</td>\n      <td>25.03.2020</td>\n      <td>Likvideerimisel</td>\n      <td>1</td>\n    </tr>\n    <tr>\n      <th>189947</th>\n      <td>Odrakunn OÜ</td>\n      <td>Muu ehitiste viimistlus ja lõpetamine</td>\n      <td>Eesti</td>\n      <td>Harju maakond</td>\n      <td>2500.00</td>\n      <td>EUR</td>\n      <td>23.10.2023</td>\n      <td>Likvideerimisel</td>\n      <td>1</td>\n    </tr>\n    <tr>\n      <th>80943</th>\n      <td>GLOBAL ESG MASTERMINDS OÜ</td>\n      <td>Muud eriehitustööd</td>\n      <td>Eesti</td>\n      <td>Harju maakond</td>\n      <td>2500.00</td>\n      <td>EUR</td>\n      <td>07.11.2023</td>\n      <td>Likvideerimisel</td>\n      <td>1</td>\n    </tr>\n    <tr>\n      <th>20809</th>\n      <td>Arkilla OÜ</td>\n      <td>Rõivaste jaemüük</td>\n      <td>Eesti</td>\n      <td>Harju maakond</td>\n      <td>2500.00</td>\n      <td>EUR</td>\n      <td>21.05.2019</td>\n      <td>Registrisse kantud</td>\n      <td>0</td>\n    </tr>\n  </tbody>\n</table>\n</div>"
     },
     "execution_count": 25,
     "metadata": {},
     "output_type": "execute_result"
    }
   ],
   "source": [
    "df_undersampled.head()"
   ],
   "metadata": {
    "collapsed": false,
    "ExecuteTime": {
     "end_time": "2023-12-14T02:06:29.861653400Z",
     "start_time": "2023-12-14T02:06:29.769809900Z"
    }
   },
   "id": "ca63a182d278d27e"
  },
  {
   "cell_type": "code",
   "execution_count": 26,
   "outputs": [],
   "source": [
    "# Encode categorical data\n",
    "def encoder_categorical(df, column):\n",
    "    le = LabelEncoder()\n",
    "    df[column] = le.fit_transform(list(df[column]))\n",
    "    return df\n",
    "county_list = encoder_categorical(df_undersampled, \"ehak_nimetus\")\n",
    "country_list = encoder_categorical(df_undersampled, \"riik_tekstina\")\n",
    "currency_list = encoder_categorical(df_undersampled, \"kapitali_valuuta\")\n",
    "emtak_list = encoder_categorical(df_undersampled, \"emtak_tekstina\")\n",
    "status_list = encoder_categorical(df_undersampled, \"staatus\")\n",
    "\n"
   ],
   "metadata": {
    "collapsed": false,
    "ExecuteTime": {
     "end_time": "2023-12-14T02:06:30.207661700Z",
     "start_time": "2023-12-14T02:06:29.803671800Z"
    }
   },
   "id": "4440de5e132f2360"
  },
  {
   "cell_type": "code",
   "execution_count": 27,
   "outputs": [
    {
     "data": {
      "text/plain": "                             sisu  emtak_tekstina  riik_tekstina  \\\n52917                    Drivz OÜ             335              0   \n293099               SKA Trade OÜ             331              0   \n189947                Odrakunn OÜ             312              0   \n80943   GLOBAL ESG MASTERMINDS OÜ             348              0   \n20809                  Arkilla OÜ             508              0   \n\n        ehak_nimetus kapitali_suurus  kapitali_valuuta   algus_kpv  staatus  \\\n52917              0         2500.00                 1  15.02.2018        3   \n293099             0         2500.00                 1  25.03.2020        1   \n189947             0         2500.00                 1  23.10.2023        1   \n80943              0         2500.00                 1  07.11.2023        1   \n20809              0         2500.00                 1  21.05.2019        3   \n\n        label  \n52917       0  \n293099      1  \n189947      1  \n80943       1  \n20809       0  ",
      "text/html": "<div>\n<style scoped>\n    .dataframe tbody tr th:only-of-type {\n        vertical-align: middle;\n    }\n\n    .dataframe tbody tr th {\n        vertical-align: top;\n    }\n\n    .dataframe thead th {\n        text-align: right;\n    }\n</style>\n<table border=\"1\" class=\"dataframe\">\n  <thead>\n    <tr style=\"text-align: right;\">\n      <th></th>\n      <th>sisu</th>\n      <th>emtak_tekstina</th>\n      <th>riik_tekstina</th>\n      <th>ehak_nimetus</th>\n      <th>kapitali_suurus</th>\n      <th>kapitali_valuuta</th>\n      <th>algus_kpv</th>\n      <th>staatus</th>\n      <th>label</th>\n    </tr>\n  </thead>\n  <tbody>\n    <tr>\n      <th>52917</th>\n      <td>Drivz OÜ</td>\n      <td>335</td>\n      <td>0</td>\n      <td>0</td>\n      <td>2500.00</td>\n      <td>1</td>\n      <td>15.02.2018</td>\n      <td>3</td>\n      <td>0</td>\n    </tr>\n    <tr>\n      <th>293099</th>\n      <td>SKA Trade OÜ</td>\n      <td>331</td>\n      <td>0</td>\n      <td>0</td>\n      <td>2500.00</td>\n      <td>1</td>\n      <td>25.03.2020</td>\n      <td>1</td>\n      <td>1</td>\n    </tr>\n    <tr>\n      <th>189947</th>\n      <td>Odrakunn OÜ</td>\n      <td>312</td>\n      <td>0</td>\n      <td>0</td>\n      <td>2500.00</td>\n      <td>1</td>\n      <td>23.10.2023</td>\n      <td>1</td>\n      <td>1</td>\n    </tr>\n    <tr>\n      <th>80943</th>\n      <td>GLOBAL ESG MASTERMINDS OÜ</td>\n      <td>348</td>\n      <td>0</td>\n      <td>0</td>\n      <td>2500.00</td>\n      <td>1</td>\n      <td>07.11.2023</td>\n      <td>1</td>\n      <td>1</td>\n    </tr>\n    <tr>\n      <th>20809</th>\n      <td>Arkilla OÜ</td>\n      <td>508</td>\n      <td>0</td>\n      <td>0</td>\n      <td>2500.00</td>\n      <td>1</td>\n      <td>21.05.2019</td>\n      <td>3</td>\n      <td>0</td>\n    </tr>\n  </tbody>\n</table>\n</div>"
     },
     "execution_count": 27,
     "metadata": {},
     "output_type": "execute_result"
    }
   ],
   "source": [
    "df_undersampled.head()"
   ],
   "metadata": {
    "collapsed": false,
    "ExecuteTime": {
     "end_time": "2023-12-14T02:06:30.237120900Z",
     "start_time": "2023-12-14T02:06:30.210661400Z"
    }
   },
   "id": "73f05e063b1ecaa8"
  },
  {
   "cell_type": "code",
   "execution_count": 28,
   "outputs": [],
   "source": [
    "x = df_undersampled[[\"emtak_tekstina\", \"riik_tekstina\", \"ehak_nimetus\", \"kapitali_suurus\", \"kapitali_valuuta\"]]"
   ],
   "metadata": {
    "collapsed": false,
    "ExecuteTime": {
     "end_time": "2023-12-14T02:06:30.273708400Z",
     "start_time": "2023-12-14T02:06:30.239117900Z"
    }
   },
   "id": "2523e24d1717be96"
  },
  {
   "cell_type": "code",
   "execution_count": 29,
   "outputs": [
    {
     "name": "stderr",
     "output_type": "stream",
     "text": [
      "C:\\Users\\kevin\\AppData\\Local\\Temp\\ipykernel_21672\\858814812.py:2: FutureWarning: The default value of numeric_only in DataFrame.corr is deprecated. In a future version, it will default to False. Select only valid columns or specify the value of numeric_only to silence this warning.\n",
      "  correlation = sb.heatmap(x.corr(), annot=True)\n"
     ]
    },
    {
     "data": {
      "text/plain": "<Figure size 640x480 with 2 Axes>",
      "image/png": "[encoded data removed]"
     },
     "metadata": {},
     "output_type": "display_data"
    }
   ],
   "source": [
    "import seaborn as sb\n",
    "correlation = sb.heatmap(x.corr(), annot=True)\n",
    "fig = correlation.get_figure()"
   ],
   "metadata": {
    "collapsed": false,
    "ExecuteTime": {
     "end_time": "2023-12-14T02:06:31.261931900Z",
     "start_time": "2023-12-14T02:06:30.251715Z"
    }
   },
   "id": "ed0a12eaaaa139de"
  },
  {
   "cell_type": "code",
   "execution_count": 30,
   "outputs": [],
   "source": [
    "Y = df_undersampled[\"label\"]"
   ],
   "metadata": {
    "collapsed": false,
    "ExecuteTime": {
     "end_time": "2023-12-14T02:06:31.262931800Z",
     "start_time": "2023-12-14T02:06:31.250429200Z"
    }
   },
   "id": "4db4e893c4794c14"
  },
  {
   "cell_type": "code",
   "execution_count": 31,
   "outputs": [],
   "source": [
    "# Encode categorical data\n",
    "onehotencoder = OneHotEncoder()\n",
    "X_encoded = onehotencoder.fit_transform(x).toarray()"
   ],
   "metadata": {
    "collapsed": false,
    "ExecuteTime": {
     "end_time": "2023-12-14T02:06:31.468154700Z",
     "start_time": "2023-12-14T02:06:31.255933800Z"
    }
   },
   "id": "54411bc2b6b70a4"
  },
  {
   "cell_type": "code",
   "execution_count": 32,
   "outputs": [
    {
     "data": {
      "text/plain": "RandomForestClassifier(n_estimators=50)",
      "text/html": "<style>#sk-container-id-1 {color: black;}#sk-container-id-1 pre{padding: 0;}#sk-container-id-1 div.sk-toggleable {background-color: white;}#sk-container-id-1 label.sk-toggleable__label {cursor: pointer;display: block;width: 100%;margin-bottom: 0;padding: 0.3em;box-sizing: border-box;text-align: center;}#sk-container-id-1 label.sk-toggleable__label-arrow:before {content: \"▸\";float: left;margin-right: 0.25em;color: #696969;}#sk-container-id-1 label.sk-toggleable__label-arrow:hover:before {color: black;}#sk-container-id-1 div.sk-estimator:hover label.sk-toggleable__label-arrow:before {color: black;}#sk-container-id-1 div.sk-toggleable__content {max-height: 0;max-width: 0;overflow: hidden;text-align: left;background-color: #f0f8ff;}#sk-container-id-1 div.sk-toggleable__content pre {margin: 0.2em;color: black;border-radius: 0.25em;background-color: #f0f8ff;}#sk-container-id-1 input.sk-toggleable__control:checked~div.sk-toggleable__content {max-height: 200px;max-width: 100%;overflow: auto;}#sk-container-id-1 input.sk-toggleable__control:checked~label.sk-toggleable__label-arrow:before {content: \"▾\";}#sk-container-id-1 div.sk-estimator input.sk-toggleable__control:checked~label.sk-toggleable__label {background-color: #d4ebff;}#sk-container-id-1 div.sk-label input.sk-toggleable__control:checked~label.sk-toggleable__label {background-color: #d4ebff;}#sk-container-id-1 input.sk-hidden--visually {border: 0;clip: rect(1px 1px 1px 1px);clip: rect(1px, 1px, 1px, 1px);height: 1px;margin: -1px;overflow: hidden;padding: 0;position: absolute;width: 1px;}#sk-container-id-1 div.sk-estimator {font-family: monospace;background-color: #f0f8ff;border: 1px dotted black;border-radius: 0.25em;box-sizing: border-box;margin-bottom: 0.5em;}#sk-container-id-1 div.sk-estimator:hover {background-color: #d4ebff;}#sk-container-id-1 div.sk-parallel-item::after {content: \"\";width: 100%;border-bottom: 1px solid gray;flex-grow: 1;}#sk-container-id-1 div.sk-label:hover label.sk-toggleable__label {background-color: #d4ebff;}#sk-container-id-1 div.sk-serial::before {content: \"\";position: absolute;border-left: 1px solid gray;box-sizing: border-box;top: 0;bottom: 0;left: 50%;z-index: 0;}#sk-container-id-1 div.sk-serial {display: flex;flex-direction: column;align-items: center;background-color: white;padding-right: 0.2em;padding-left: 0.2em;position: relative;}#sk-container-id-1 div.sk-item {position: relative;z-index: 1;}#sk-container-id-1 div.sk-parallel {display: flex;align-items: stretch;justify-content: center;background-color: white;position: relative;}#sk-container-id-1 div.sk-item::before, #sk-container-id-1 div.sk-parallel-item::before {content: \"\";position: absolute;border-left: 1px solid gray;box-sizing: border-box;top: 0;bottom: 0;left: 50%;z-index: -1;}#sk-container-id-1 div.sk-parallel-item {display: flex;flex-direction: column;z-index: 1;position: relative;background-color: white;}#sk-container-id-1 div.sk-parallel-item:first-child::after {align-self: flex-end;width: 50%;}#sk-container-id-1 div.sk-parallel-item:last-child::after {align-self: flex-start;width: 50%;}#sk-container-id-1 div.sk-parallel-item:only-child::after {width: 0;}#sk-container-id-1 div.sk-dashed-wrapped {border: 1px dashed gray;margin: 0 0.4em 0.5em 0.4em;box-sizing: border-box;padding-bottom: 0.4em;background-color: white;}#sk-container-id-1 div.sk-label label {font-family: monospace;font-weight: bold;display: inline-block;line-height: 1.2em;}#sk-container-id-1 div.sk-label-container {text-align: center;}#sk-container-id-1 div.sk-container {/* jupyter's `normalize.less` sets `[hidden] { display: none; }` but bootstrap.min.css set `[hidden] { display: none !important; }` so we also need the `!important` here to be able to override the default hidden behavior on the sphinx rendered scikit-learn.org. See: https://github.com/scikit-learn/scikit-learn/issues/21755 */display: inline-block !important;position: relative;}#sk-container-id-1 div.sk-text-repr-fallback {display: none;}</style><div id=\"sk-container-id-1\" class=\"sk-top-container\"><div class=\"sk-text-repr-fallback\"><pre>RandomForestClassifier(n_estimators=50)</pre><b>In a Jupyter environment, please rerun this cell to show the HTML representation or trust the notebook. <br />On GitHub, the HTML representation is unable to render, please try loading this page with nbviewer.org.</b></div><div class=\"sk-container\" hidden><div class=\"sk-item\"><div class=\"sk-estimator sk-toggleable\"><input class=\"sk-toggleable__control sk-hidden--visually\" id=\"sk-estimator-id-1\" type=\"checkbox\" checked><label for=\"sk-estimator-id-1\" class=\"sk-toggleable__label sk-toggleable__label-arrow\">RandomForestClassifier</label><div class=\"sk-toggleable__content\"><pre>RandomForestClassifier(n_estimators=50)</pre></div></div></div></div></div>"
     },
     "execution_count": 32,
     "metadata": {},
     "output_type": "execute_result"
    }
   ],
   "source": [
    "# Train model\n",
    "\n",
    "X_train, X_test, y_train, y_test = train_test_split(X_encoded, Y, test_size=0.2, random_state=42)\n",
    "scaler = StandardScaler()\n",
    "X_train = scaler.fit_transform(X_train)\n",
    "X_test = scaler.transform(X_test)\n",
    "model = RandomForestClassifier(n_estimators=50)\n",
    "model.fit(X_train, y_train)"
   ],
   "metadata": {
    "collapsed": false,
    "ExecuteTime": {
     "end_time": "2023-12-14T02:07:52.878125800Z",
     "start_time": "2023-12-14T02:06:31.481149500Z"
    }
   },
   "id": "2523e0d6761ab580"
  },
  {
   "cell_type": "code",
   "execution_count": 33,
   "outputs": [
    {
     "data": {
      "text/plain": "0.694"
     },
     "execution_count": 33,
     "metadata": {},
     "output_type": "execute_result"
    }
   ],
   "source": [
    "y_pred = model.predict(X_test)\n",
    "accuracy_score(y_test, y_pred)"
   ],
   "metadata": {
    "collapsed": false,
    "ExecuteTime": {
     "end_time": "2023-12-14T02:07:53.624894900Z",
     "start_time": "2023-12-14T02:07:52.884125Z"
    }
   },
   "id": "d36c29d653023f81"
  },
  {
   "cell_type": "code",
   "execution_count": 34,
   "outputs": [
    {
     "data": {
      "text/plain": "0.766625"
     },
     "execution_count": 34,
     "metadata": {},
     "output_type": "execute_result"
    }
   ],
   "source": [
    "y_train_pred = model.predict(X_train)\n",
    "accuracy_score(y_train, y_train_pred)"
   ],
   "metadata": {
    "collapsed": false,
    "ExecuteTime": {
     "end_time": "2023-12-14T02:07:55.870885500Z",
     "start_time": "2023-12-14T02:07:53.626894900Z"
    }
   },
   "id": "aae6f2994ee01571"
  },
  {
   "cell_type": "code",
   "execution_count": 35,
   "outputs": [
    {
     "name": "stdout",
     "output_type": "stream",
     "text": [
      "AUC: 0.78\n"
     ]
    }
   ],
   "source": [
    "y_prob = model.predict_proba(X_test)\n",
    "auc = roc_auc_score(y_test, y_prob[:, 1])\n",
    "print('AUC: %.2f' % auc)"
   ],
   "metadata": {
    "collapsed": false,
    "ExecuteTime": {
     "end_time": "2023-12-14T02:07:56.492788600Z",
     "start_time": "2023-12-14T02:07:55.873884300Z"
    }
   },
   "id": "3a7da4b2049ccc8e"
  },
  {
   "cell_type": "code",
   "execution_count": 35,
   "outputs": [],
   "source": [],
   "metadata": {
    "collapsed": false,
    "ExecuteTime": {
     "end_time": "2023-12-14T02:07:56.506079400Z",
     "start_time": "2023-12-14T02:07:56.494090100Z"
    }
   },
   "id": "92820808c606546e"
  }
 ],
 "metadata": {
  "kernelspec": {
   "display_name": "Python 3",
   "language": "python",
   "name": "python3"
  },
  "language_info": {
   "codemirror_mode": {
    "name": "ipython",
    "version": 2
   },
   "file_extension": ".py",
   "mimetype": "text/x-python",
   "name": "python",
   "nbconvert_exporter": "python",
   "pygments_lexer": "ipython2",
   "version": "2.7.6"
  }
 },
 "nbformat": 4,
 "nbformat_minor": 5
}
